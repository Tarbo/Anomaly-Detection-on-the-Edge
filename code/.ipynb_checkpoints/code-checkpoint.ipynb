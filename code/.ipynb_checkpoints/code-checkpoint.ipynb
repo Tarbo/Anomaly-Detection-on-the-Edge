{
 "cells": [
  {
   "cell_type": "code",
   "execution_count": 1,
   "metadata": {},
   "outputs": [],
   "source": [
    "# Import the necessary library\n",
    "import time\n",
    "#import glob\n",
    "import json\n",
    "#import data_processor as dp\n",
    "import numpy as np\n",
    "# import pandas as pd\n",
    "import h5py\n",
    "from sklearn import neighbors\n",
    "from sklearn.model_selection import cross_val_score\n",
    "from sklearn.metrics import classification_report, accuracy_score\n",
    "# import matplotlib\n",
    "# %matplotlib ipympl\n",
    "from matplotlib import pyplot as plt\n",
    "from matplotlib.colors import ListedColormap\n",
    "plt.rcParams['text.usetex'] = True\n",
    "plt.rcParams[\"font.weight\"] = \"bold\"\n",
    "plt.rcParams[\"axes.labelweight\"] = \"bold\"\n",
    "import seaborn as sns\n",
    "sns.set(style=\"white\",color_codes=True)\n",
    "sns.set_context(\"paper\")\n",
    "%matplotlib inline"
   ]
  },
  {
   "cell_type": "code",
   "execution_count": 2,
   "metadata": {
    "scrolled": true
   },
   "outputs": [
    {
     "name": "stdout",
     "output_type": "stream",
     "text": [
      ">>> fifo model constructed <<<\n",
      ">>> fifo model constructed <<<\n",
      ">>> Initializing with 1682 trace error values <<<\n",
      ">>> Evaluating with 1683 error values <<<\n"
     ]
    }
   ],
   "source": [
    "# 5-window scenario attention\n",
    "import test_model\n",
    "eval_error_values_norm = test_model.get_evaluation_error('fifo','train','model-weight-a')\n",
    "eval_error_values_anom = test_model.get_evaluation_error('fifo','anomaly','model-weight-a')\n",
    "kernel = test_model.kernel(eval_error_values_norm)\n",
    "init_len = int(len(eval_error_values_norm) * 0.5)\n",
    "eval_pdf_norm = kernel.pdf(eval_error_values_norm[init_len:])\n",
    "eval_pdf_anom = kernel.pdf(eval_error_values_anom)"
   ]
  },
  {
   "cell_type": "code",
   "execution_count": 3,
   "metadata": {},
   "outputs": [
    {
     "data": {
      "text/plain": [
       "1937"
      ]
     },
     "execution_count": 3,
     "metadata": {},
     "output_type": "execute_result"
    }
   ],
   "source": [
    "len(eval_pdf_anom)"
   ]
  },
  {
   "cell_type": "code",
   "execution_count": 4,
   "metadata": {},
   "outputs": [],
   "source": [
    "# Prepare the data for the KNN\n",
    "np.random.seed(35)\n",
    "data_len = int(len(eval_pdf_norm)/2)*2\n",
    "targets = [0,1]\n",
    "x_n, x_a = eval_pdf_norm[:data_len].reshape((int(data_len/2), 2)), eval_pdf_anom[:data_len].reshape((int(data_len/2), 2))\n",
    "y_n, y_a = np.array([targets[0]]*int(data_len/2)), np.array([targets[1]]*int(data_len/2))\n",
    "X, Y = np.concatenate((x_n,x_a),axis=0), np.concatenate((y_n,y_a),axis=0)\n",
    "#print(X.shape)\n",
    "#print(Y.reshape((data_len,1)).shape)\n",
    "xy = np.hstack((X,Y.reshape((data_len,1))))\n",
    "np.random.shuffle(xy) "
   ]
  },
  {
   "cell_type": "code",
   "execution_count": 5,
   "metadata": {},
   "outputs": [
    {
     "name": "stdout",
     "output_type": "stream",
     "text": [
      ">>> The optimal number of neighbors is 9\n"
     ]
    },
    {
     "data": {
      "image/png": "[encoded data removed]",
      "text/plain": [
       "<Figure size 432x288 with 1 Axes>"
      ]
     },
     "metadata": {
      "needs_background": "light"
     },
     "output_type": "display_data"
    }
   ],
   "source": [
    "# Find the optimal K to use\n",
    "# creating odd list of K for KNN\n",
    "myList = list(range(1,50))\n",
    "\n",
    "# subsetting just the odd ones\n",
    "n_neighbors = [x for x in myList if x % 2 != 0]\n",
    "\n",
    "# empty list that will hold cv scores\n",
    "cv_scores = []\n",
    "\n",
    "# perform 10-fold cross validation\n",
    "for k in n_neighbors:\n",
    "    knn = neighbors.KNeighborsClassifier(n_neighbors=k)\n",
    "    scores = cross_val_score(knn, X, Y, cv=5, n_jobs=-1, scoring='accuracy')\n",
    "    cv_scores.append(scores.mean())\n",
    "\n",
    "# changing to misclassification error\n",
    "MSE = [1 - x for x in cv_scores]\n",
    "\n",
    "# determining best k\n",
    "optimal_k = n_neighbors[MSE.index(min(MSE))]\n",
    "print(f'>>> The optimal number of neighbors is {optimal_k}')\n",
    "\n",
    "# plot misclassification error vs k\n",
    "plt.plot(n_neighbors, MSE)\n",
    "plt.xlabel('Number of Neighbors K')\n",
    "plt.ylabel('Misclassification Error')\n",
    "plt.show()"
   ]
  },
  {
   "cell_type": "code",
   "execution_count": 6,
   "metadata": {},
   "outputs": [],
   "source": [
    "#cmap_light = ListedColormap(['#FFAAAA', '#AAFFAA'])\n",
    "#cmap_bold = ListedColormap(['#FF0000', '#00FF00'])\n",
    "h = .02\n",
    "n_neighbors = 9\n",
    "x = xy[:,:-1]\n",
    "y = xy[:,-1:]\n",
    "# Create color maps\n",
    "cmap_light = ListedColormap({'tab:gray', 'tab:blue'})\n",
    "cmap_bold = ListedColormap({'tab:red','tab:cyan'})\n",
    " \n",
    "# we create an instance of Neighbours Classifier and fit the data.\n",
    "clf = neighbors.KNeighborsClassifier(n_neighbors, weights='distance')\n",
    "clf.fit(x, y)\n",
    " \n",
    "# calculate min, max and limits\n",
    "x_min, x_max = x[:, 0].min() - 1, x[:, 0].max() + 1\n",
    "y_min, y_max = x[:, 1].min() - 1, x[:, 1].max() + 1\n",
    "xx, yy = np.meshgrid(np.arange(x_min, x_max, h),\n",
    "                     np.arange(y_min, y_max, h))\n",
    "# predict class using data and kNN classifier\n",
    "Z = clf.predict(np.c_[xx.ravel(), yy.ravel()])\n",
    " \n",
    "# Put the result into a color plot\n",
    "#Z = Z.reshape(xx.shape)\n",
    "#plt.figure(figsize=(10, 10), dpi= 80, facecolor='w', edgecolor='k')\n",
    "#plt.pcolormesh(xx, yy, Z, cmap=cmap_light)\n",
    " \n",
    "# Plot also the training points\n",
    "#plt.scatter(x[:, 0], x[:, 1], c=y, cmap=cmap_bold, edgecolor='k', s=35)\n",
    "#plt.xlabel('Dimension 1 PDFs Training',fontsize=27)\n",
    "#plt.ylabel('Dimension 2 PDFs Training',fontsize=27)\n",
    "#plt.xlim(xx.min(), xx.max())\n",
    "#plt.ylim(yy.min(), yy.max())\n",
    "#plt.xticks(fontsize=23)\n",
    "#plt.yticks(fontsize=23)\n",
    "    #plt.show()\n",
    "#plt.savefig('full_.png',orientation='landscape',dpi = 80, papertype = 'legal', format = 'png',\n",
    "#           facecolor = 'w', edgecolor = 'w', bbox_inches='tight', pad_inches=0.5)\n",
    "#plt.show()"
   ]
  },
  {
   "cell_type": "code",
   "execution_count": 7,
   "metadata": {},
   "outputs": [
    {
     "name": "stdout",
     "output_type": "stream",
     "text": [
      ">>> Doing inference on: 1286 batches of clean fifo dataset <<<\n",
      ">>> Doing inference on: 1937 batches of anomaly fifo dataset <<<\n"
     ]
    }
   ],
   "source": [
    "# generate predictions and test on the fit KNN model\n",
    "import model\n",
    "y_pred, y_true = model.inference_attention('fifo','clean')\n",
    "y_pred_a, y_true_a = model.inference_attention('fifo','anomaly')"
   ]
  },
  {
   "cell_type": "code",
   "execution_count": 8,
   "metadata": {},
   "outputs": [
    {
     "name": "stdout",
     "output_type": "stream",
     "text": [
      ">>> Y Pred normal: (1286, 400, 5)\t>>> Y True normal: (1286, 400, 7) <<<\n",
      ">>> Y Pred anomaly: (1937, 400, 5)\t>>> Y True anomaly: (1937, 400, 7) <<<\n"
     ]
    }
   ],
   "source": [
    "# compute the accuracy of the prediction model\n",
    "y_pred, y_true = np.array(y_pred), np.array(y_true) # normal profile\n",
    "y_pred_a, y_true_a = np.array(y_pred_a), np.array(y_true_a) \n",
    "print(f'>>> Y Pred normal: {y_pred.shape}\\t>>> Y True normal: {y_true.shape} <<<')\n",
    "print(f'>>> Y Pred anomaly: {y_pred_a.shape}\\t>>> Y True anomaly: {y_true_a.shape} <<<')"
   ]
  },
  {
   "cell_type": "code",
   "execution_count": 11,
   "metadata": {},
   "outputs": [
    {
     "data": {
      "text/plain": [
       "[2, 3, 4]"
      ]
     },
     "execution_count": 11,
     "metadata": {},
     "output_type": "execute_result"
    }
   ],
   "source": [
    "y_pred, y_true = np.array(y_pred), np.array(y_true) # normal profile\n",
    "y_pred_a, y_true_a = np.array(y_pred_a), np.array(y_true_a) "
   ]
  },
  {
   "cell_type": "code",
   "execution_count": null,
   "metadata": {},
   "outputs": [],
   "source": [
    "# Check for the accuracy of the algorithm\n",
    "targets = [0,1]\n",
    "x_n_len = len(x_norm)\n",
    "x_a_len = len(x_anom)\n",
    "end_anom = int((x_a_len-data_len)/2)*2\n",
    "x_n, x_a = x_norm[:int(x_n_len/2)*2].reshape((int(x_n_len/2), 2)), x_anom[-end_anom:].reshape((int(end_anom/2), 2))\n",
    "y_n, y_a = np.array([targets[0]]*int(x_n_len/2)), np.array([targets[1]]*int(end_anom/2))\n",
    "X, Y = np.concatenate((x_n,x_a),axis=0), np.concatenate((y_n,y_a),axis=0)\n",
    "#print(X.shape)\n",
    "#print(Y.reshape((data_len,1)).shape)\n",
    "y_pred = clf.predict(X)\n",
    "target_names = ['Normal', 'Anomalous']\n",
    "print('>...Accuracy {}'.format(accuracy_score(Y,y_pred)))\n",
    "print(classification_report(Y, y_pred, target_names=target_names, sample_weight=None, digits=2))"
   ]
  },
  {
   "cell_type": "code",
   "execution_count": 1,
   "metadata": {},
   "outputs": [],
   "source": [
    "# plot the IoT results in a bar chart.\n",
    "import matplotlib\n",
    "%matplotlib ipympl\n",
    "from matplotlib import pyplot as plt\n",
    "from matplotlib.colors import ListedColormap\n",
    "plt.rcParams['text.usetex'] = True\n",
    "plt.rcParams[\"font.weight\"] = \"bold\"\n",
    "plt.rcParams[\"axes.labelweight\"] = \"bold\"\n",
    "import seaborn as sns\n",
    "sns.set(style=\"white\",color_codes=True)\n",
    "sns.set_context(\"paper\")\n",
    "%matplotlib inline"
   ]
  },
  {
   "cell_type": "code",
   "execution_count": 5,
   "metadata": {},
   "outputs": [
    {
     "data": {
      "image/png": "[encoded data removed]",
      "text/plain": [
       "<Figure size 2160x720 with 1 Axes>"
      ]
     },
     "metadata": {
      "needs_background": "light"
     },
     "output_type": "display_data"
    }
   ],
   "source": [
    "import numpy as np\n",
    "plt.rcParams['lines.linewidth'] = 5\n",
    "plt.rc('text', usetex=True)\n",
    "plt.rc('font', family='serif')\n",
    "plt.figure(figsize=(30,10))\n",
    "plt.xlabel(r'\\emph{CPU Load}',fontsize=35)\n",
    "plt.ylabel(r'\\emph{Percentage of Tasks}',fontsize=35)\n",
    "plt.xticks(fontsize=30)\n",
    "plt.yticks(fontsize=30)\n",
    "\n",
    "# uncomment this part for distributed simulation plot\n",
    "#stale = (0.24,0.30,0.43,0.47)\n",
    "#completed = (0.76,.70,.57,.53)\n",
    "\n",
    "# uncomment this for distributed performance analysis\n",
    "stale = (0.06,0.09,0.43,0.19)\n",
    "completed = (0.94,.91,.57,.81)\n",
    "width = 0.3\n",
    "N = 4\n",
    "ind = np.arange(4)\n",
    "plt.bar(ind,stale,width,color='m',edgecolor='white',label='Stale')\n",
    "plt.bar(ind+width,completed,width,color='c',edgecolor='white',label='Completed')\n",
    "plt.xticks([index+width/2 for index in ind],['Low', 'Moderate', 'Random','High'])\n",
    "#ax.legend((p1[0],p2[0]),('Stale','Completed'),loc='center',fontsize=30)\n",
    "plt.ylim(0,1)\n",
    "plt.legend(loc='upper right',prop={'size':30})\n",
    "plt.grid(True)\n",
    "plt.savefig('cpu-load-network.pdf',orientation='landscape',dpi = 300, papertype = 'legal', format = 'pdf',\n",
    "           facecolor = 'w', edgecolor = 'w', bbox_inches='tight', pad_inches=0.2)\n",
    "\n",
    "plt.show()"
   ]
  }
 ],
 "metadata": {
  "kernelspec": {
   "display_name": "Python 3",
   "language": "python",
   "name": "python3"
  },
  "language_info": {
   "codemirror_mode": {
    "name": "ipython",
    "version": 3
   },
   "file_extension": ".py",
   "mimetype": "text/x-python",
   "name": "python",
   "nbconvert_exporter": "python",
   "pygments_lexer": "ipython3",
   "version": "3.6.8"
  }
 },
 "nbformat": 4,
 "nbformat_minor": 2
}
