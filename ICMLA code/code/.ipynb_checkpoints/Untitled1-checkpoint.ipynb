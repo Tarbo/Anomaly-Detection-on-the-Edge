{
 "cells": [
  {
   "cell_type": "code",
   "execution_count": 1,
   "metadata": {},
   "outputs": [
    {
     "name": "stderr",
     "output_type": "stream",
     "text": [
      "Using TensorFlow backend.\n"
     ]
    }
   ],
   "source": [
    "import zmq\n",
    "import agent\n",
    "import logging\n",
    "\n",
    "logging.basicConfig()\n",
    "logging.getLogger('__main__').setLevel(logging.DEBUG)"
   ]
  },
  {
   "cell_type": "code",
   "execution_count": 2,
   "metadata": {},
   "outputs": [],
   "source": [
    "# declare the agent class argiments\n",
    "group_name = 'Ezeme'\n",
    "ctx = zmq.Context()\n",
    "agent_name = 'Chimdalu'\n",
    "cpu_clock_rate = 50000\n",
    "exp_name = 'delay'"
   ]
  },
  {
   "cell_type": "code",
   "execution_count": null,
   "metadata": {},
   "outputs": [],
   "source": [
    "dalu = agent.Agent(agent_name,ctx,group_name,cpu_clock_rate,exp_name)\n",
    "dalu.run()"
   ]
  }
 ],
 "metadata": {
  "kernelspec": {
   "display_name": "Python [Anaconda3]",
   "language": "python",
   "name": "Python [Anaconda3]"
  },
  "language_info": {
   "codemirror_mode": {
    "name": "ipython",
    "version": 3
   },
   "file_extension": ".py",
   "mimetype": "text/x-python",
   "name": "python",
   "nbconvert_exporter": "python",
   "pygments_lexer": "ipython3",
   "version": "3.6.8"
  }
 },
 "nbformat": 4,
 "nbformat_minor": 2
}
